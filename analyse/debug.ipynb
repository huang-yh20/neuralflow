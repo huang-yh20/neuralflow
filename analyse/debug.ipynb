{
 "cells": [
  {
   "cell_type": "code",
   "execution_count": 80,
   "id": "e45a1119",
   "metadata": {},
   "outputs": [],
   "source": [
    "import os\n",
    "import argparse\n",
    "import scipy.io\n",
    "import numpy as np\n",
    "import pickle as pkl\n",
    "import matplotlib.gridspec as gridspec\n",
    "import matplotlib.pyplot as plt\n",
    "\n",
    "import neuralflow\n",
    "from neuralflow.feature_complexity.fc_base import FC_tools\n",
    "brain_region_list = ['left ALM', 'right ALM', 'left Medulla', 'right Medulla']"
   ]
  },
  {
   "cell_type": "code",
   "execution_count": 81,
   "id": "9d2929eb",
   "metadata": {},
   "outputs": [],
   "source": [
    "# ---------- Load Data ----------\n",
    "brain_region = 'left ALM'  # 'left ALM', 'right ALM', 'left Medulla', 'right Medulla'\n",
    "path = \"../data/new_data_mini/session_057_aligned_spike_times.pkl\"\n",
    "with open(path, 'rb') as f:\n",
    "    data_ori = pkl.load(f)\n",
    "# 取出单个脑区数据\n",
    "choice_list_all = ['LL', 'LR', 'RL', 'RR'] \n",
    "data = {}\n",
    "for choice in choice_list_all:\n",
    "    data[choice] = data_ori[choice][brain_region]\n",
    "\n",
    "num_neurons_ori = len(data['RR']) # 假设所有条件的神经元数量相同"
   ]
  },
  {
   "cell_type": "code",
   "execution_count": 82,
   "id": "2308d4db",
   "metadata": {},
   "outputs": [],
   "source": [
    "time_slot = (-1.2, 0.0) # 暂且固定\n",
    "# ---------- Preprocessing ----------\n",
    "# 预处理，截取时间段\n",
    "for choice in choice_list_all:\n",
    "    for neuron in range(num_neurons_ori):\n",
    "        trial_counts = len(data[choice][neuron])\n",
    "        for trial in range(trial_counts):\n",
    "            spike_times = data[choice][neuron][trial]\n",
    "            spike_times = spike_times[(spike_times >= time_slot[0]) & (spike_times <= time_slot[1])]\n",
    "            data[choice][neuron][trial] = spike_times\n",
    "\n",
    "# 预处理，如果一个trial中所有神经元都不发放，则需要把这个trial清洗掉\n",
    "for choice in choice_list_all:\n",
    "    valid_trials = []\n",
    "    trial_counts = len(data[choice][0])  # 假定所有神经元trial_counts都一样\n",
    "    for trial in range(trial_counts):\n",
    "        valid = False\n",
    "        for neuron in range(num_neurons_ori):\n",
    "            spike_times = data[choice][neuron][trial]\n",
    "            if len(spike_times) > 0:\n",
    "                valid = True\n",
    "                break  # 只要有一个神经元有spike就可以\n",
    "        if valid:\n",
    "            valid_trials.append(trial)\n",
    "    # 只保留valid_trials对应的trial\n",
    "    for neuron in range(num_neurons_ori):\n",
    "        data[choice][neuron] = [data[choice][neuron][trial] for trial in valid_trials]"
   ]
  },
  {
   "cell_type": "code",
   "execution_count": 83,
   "id": "ff85b0d0",
   "metadata": {},
   "outputs": [],
   "source": [
    "# 清洗出可以进入运算的神经元，清洗条件比较严格，要求每个choice下都的非空trial数量不少于20个\n",
    "mini_batch_size = 20\n",
    "choice_list_all = ['LL', 'LR', 'RL', 'RR'] \n",
    "\n",
    "non_zero_neurons = []\n",
    "for neuron in range(num_neurons_ori):\n",
    "    valid = True\n",
    "    for choice in choice_list_all:\n",
    "        spike_times = data[choice][neuron]\n",
    "        non_empty_trials = sum(1 for trial in spike_times if len(trial) > 0)\n",
    "        num_trials = len(spike_times)\n",
    "        clean_thres = mini_batch_size if mini_batch_size < num_trials/2 else int(num_trials/2 - 1)\n",
    "        if non_empty_trials < clean_thres:\n",
    "            valid = False\n",
    "            break\n",
    "    if valid:\n",
    "        non_zero_neurons.append(neuron)\n",
    "\n",
    "data_cleaned = {choice: [data[choice][neuron] for neuron in non_zero_neurons] for choice in choice_list_all}\n",
    "# 这边等会用文件记录一下"
   ]
  },
  {
   "cell_type": "code",
   "execution_count": 84,
   "id": "b02ec669",
   "metadata": {},
   "outputs": [],
   "source": [
    "data_combined = [ [None]*len(non_zero_neurons), [None]*len(non_zero_neurons) ] # 两个条件，每个条件num_neurons个神经元\n",
    "for neuron in range(len(data_cleaned['LL'])):\n",
    "    combined_trials_L = data_cleaned['LL'][neuron] + data_cleaned['LR'][neuron]\n",
    "    combined_trials_R = data_cleaned['RL'][neuron] + data_cleaned['RR'][neuron]\n",
    "    data_combined[0][neuron] = combined_trials_L\n",
    "    data_combined[1][neuron] = combined_trials_R\n",
    "\n",
    "data_combined_array = []\n",
    "for data_onechoice in data_combined:\n",
    "    data_onechoice_array = np.array(data_onechoice, dtype=object)\n",
    "    data_combined_array.append(data_onechoice_array)"
   ]
  },
  {
   "cell_type": "code",
   "execution_count": 85,
   "id": "84b4a1de",
   "metadata": {},
   "outputs": [],
   "source": [
    "data_1_list, data_2_list = [], []\n",
    "for data_idx, data_onechoice in enumerate(data_combined_array):\n",
    "    num_trials_onechoice = len(data_onechoice[0])  # Assuming all neurons have the same number of trials\n",
    "    trial1 = np.arange(0, num_trials_onechoice, 2)\n",
    "    trial2 = np.arange(1, num_trials_onechoice, 2)\n",
    "\n",
    "    spiketimes1 = data_onechoice[:, trial1]\n",
    "    timeepoch1 = [time_slot] * len(trial1)\n",
    "    data_1 = neuralflow.SpikeData(\n",
    "        data=spiketimes1, dformat='spiketimes', time_epoch=timeepoch1, with_cuda=True\n",
    "    )\n",
    "    data_1.change_format('ISIs')    \n",
    "\n",
    "    spiketimes2 = data_onechoice[:, trial2]\n",
    "    timeepoch2 = [time_slot] * len(trial2)\n",
    "    data_2 = neuralflow.SpikeData(\n",
    "        data=spiketimes2, dformat='spiketimes', time_epoch=timeepoch2, with_cuda=True\n",
    "    )\n",
    "    data_2.change_format('ISIs') \n",
    "\n",
    "    data_1_list.append(data_1)\n",
    "    data_2_list.append(data_2)   "
   ]
  },
  {
   "cell_type": "code",
   "execution_count": 86,
   "id": "e0c77446",
   "metadata": {},
   "outputs": [
    {
     "data": {
      "image/png": "[encoded data removed]",
      "text/plain": [
       "<Figure size 640x480 with 1 Axes>"
      ]
     },
     "metadata": {},
     "output_type": "display_data"
    }
   ],
   "source": [
    "# plot raster for neurons in one trial\n",
    "trial, choice = 4, 0\n",
    "\n",
    "for neuron in range((data_combined_array[choice]).shape[0]):\n",
    "    spike_times = data_combined_array[choice][neuron][trial]\n",
    "    plt.vlines(spike_times, neuron + 0.5, neuron + 1.5)\n",
    "plt.ylim(0.5, (data_combined_array[choice]).shape[0] + 0.5)\n",
    "plt.xlabel('Time (s)')\n",
    "plt.ylabel('Neuron')\n",
    "plt.title(f'Raster Plot - Choice {choice}, Trial {trial}')\n",
    "plt.show()\n",
    "\n",
    "# # plot raster for orginal data\n",
    "# trial, choice = 7, 'RL'\n",
    "# for neuron in range(len(data_ori[choice][brain_region])):\n",
    "#     spike_times = data_ori[choice][brain_region][neuron][trial]\n",
    "#     plt.vlines(spike_times, neuron + 0.5, neuron + 1.5)\n",
    "# plt.ylim(0.5, len(data_ori[choice][brain_region]) + 0.5)\n",
    "# plt.xlabel('Time (s)')\n",
    "# plt.ylabel('Neuron')\n",
    "# plt.title(f'Raster Plot - Choice {choice}, Trial {trial}')\n",
    "# plt.show()"
   ]
  },
  {
   "cell_type": "code",
   "execution_count": null,
   "id": "be528f2c",
   "metadata": {},
   "outputs": [],
   "source": []
  }
 ],
 "metadata": {
  "kernelspec": {
   "display_name": "nf",
   "language": "python",
   "name": "python3"
  },
  "language_info": {
   "codemirror_mode": {
    "name": "ipython",
    "version": 3
   },
   "file_extension": ".py",
   "mimetype": "text/x-python",
   "name": "python",
   "nbconvert_exporter": "python",
   "pygments_lexer": "ipython3",
   "version": "3.11.13"
  }
 },
 "nbformat": 4,
 "nbformat_minor": 5
}
