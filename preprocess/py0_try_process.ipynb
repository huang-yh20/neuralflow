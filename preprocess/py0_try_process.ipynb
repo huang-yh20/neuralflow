{
 "cells": [
  {
   "cell_type": "code",
   "execution_count": 1,
   "metadata": {},
   "outputs": [],
   "source": [
    "import os\n",
    "import scipy.io\n",
    "from py12_spike_data_preprocess_utils import preprocess_spike_data\n",
    "\n",
    "brain_region_list = ['left_ALM', 'left_BLA', 'left_ECT', 'left_Medulla', 'left_Midbrain', 'left_Striatum', 'left_Thalamus'] +\\\n",
    "                    ['right_ALM', 'right_BLA', 'right_ECT', 'right_Medulla', 'right_Midbrain', 'right_Striatum', 'right_Thalamus']\n",
    "\n",
    "\n",
    "path = f\"../data/raw_data/neural_data_left_ALM/neural_data_0_left_ALM.mat\"\n",
    "data = scipy.io.loadmat(path)\n",
    "spike_counts = data['region_data']\n",
    "trial_counts = data['trial_count'].squeeze()\n",
    "time_epoch = [(-3.0, 2.0)] * int(trial_counts) # 一定要记得转换\n",
    "# Preprocess the spike data\n",
    "spiketimes, timeepoch = preprocess_spike_data(spike_counts, trial_counts, time_epoch)\n",
    "\n",
    "# Save the processed data\n",
    "# output_path = f\"./data/processed_data/neural_data_{brain_region}/{file_name}\"\n",
    "# os.makedirs(os.path.dirname(output_path), exist_ok=True)\n",
    "# scipy.io.savemat(output_path, {'spiketimes': spiketimes, 'time_epoch': timeepoch})"
   ]
  },
  {
   "cell_type": "code",
   "execution_count": 16,
   "id": "d97d4796",
   "metadata": {},
   "outputs": [],
   "source": [
    "num_neurons = spike_counts.shape[1]\n",
    "spike_counts_reshape = spike_counts.reshape((-1, trial_counts, num_neurons))\n",
    "spike_counts_reshape = spike_counts_reshape[57:150,:,:]\n",
    "start, end = 0.0, 1.86\n",
    "spike_counts_new = spike_counts_reshape.reshape((-1, num_neurons))"
   ]
  },
  {
   "cell_type": "code",
   "execution_count": null,
   "id": "b5021abb",
   "metadata": {},
   "outputs": [
    {
     "data": {
      "text/plain": [
       "np.float64(93.0)"
      ]
     },
     "execution_count": 18,
     "metadata": {},
     "output_type": "execute_result"
    }
   ],
   "source": []
  },
  {
   "cell_type": "code",
   "execution_count": 10,
   "id": "fa90a061",
   "metadata": {},
   "outputs": [
    {
     "data": {
      "text/plain": [
       "(250, 84, 189)"
      ]
     },
     "execution_count": 10,
     "metadata": {},
     "output_type": "execute_result"
    }
   ],
   "source": [
    "spike_counts_reshape.shape"
   ]
  },
  {
   "cell_type": "code",
   "execution_count": 13,
   "id": "3cc061d7",
   "metadata": {},
   "outputs": [
    {
     "data": {
      "text/plain": [
       "1.86"
      ]
     },
     "execution_count": 13,
     "metadata": {},
     "output_type": "execute_result"
    }
   ],
   "source": [
    "(150- 57) * 0.02"
   ]
  }
 ],
 "metadata": {
  "kernelspec": {
   "display_name": "nf",
   "language": "python",
   "name": "python3"
  },
  "language_info": {
   "codemirror_mode": {
    "name": "ipython",
    "version": 3
   },
   "file_extension": ".py",
   "mimetype": "text/x-python",
   "name": "python",
   "nbconvert_exporter": "python",
   "pygments_lexer": "ipython3",
   "version": "3.11.13"
  }
 },
 "nbformat": 4,
 "nbformat_minor": 5
}
