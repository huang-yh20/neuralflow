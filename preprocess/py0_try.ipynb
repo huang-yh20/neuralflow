{
 "cells": [
  {
   "cell_type": "code",
   "execution_count": 15,
   "id": "09600117",
   "metadata": {},
   "outputs": [],
   "source": [
    "brain_region_list = ['left_ALM', 'left_BLA', 'left_ECT', 'left_Medulla', 'left_Midbrain', 'left_Striatum', 'left_Thalamus'] +\\\n",
    "                    ['right_ALM', 'right_BLA', 'right_ECT', 'right_Medulla', 'right_Midbrain', 'right_Striatum', 'right_Thalamus']\n"
   ]
  },
  {
   "cell_type": "code",
   "execution_count": 4,
   "id": "b7b96db8",
   "metadata": {},
   "outputs": [],
   "source": [
    "import os\n",
    "import re\n",
    "\n",
    "directory_path = '../data/raw_data/neural_data_left_ALM'\n",
    "entries = os.listdir(directory_path)"
   ]
  },
  {
   "cell_type": "code",
   "execution_count": 12,
   "id": "58923b30",
   "metadata": {},
   "outputs": [],
   "source": [
    "brain_region = 'left_ALM'\n",
    "extracted_contents = []\n",
    "for file_name in entries:\n",
    "    assert file_name[0:12] == 'neural_data_'\n",
    "    assert file_name[-(5+len(brain_region)):] == f'_{brain_region}.mat'\n",
    "    extracted_contents.append(int(file_name[12:-(5+len(brain_region))]))\n"
   ]
  },
  {
   "cell_type": "code",
   "execution_count": 17,
   "id": "146e77ac",
   "metadata": {},
   "outputs": [
    {
     "name": "stdout",
     "output_type": "stream",
     "text": [
      "{'left_ALM': [0, 1, 3, 4, 5, 7, 8, 9, 10, 12, 13, 14, 15, 16, 17, 21, 22, 23, 24, 25, 26, 27, 28, 29, 30, 31, 32, 33, 34, 37, 38, 39, 40, 41, 42, 43, 44, 47, 48, 49, 50, 55, 56, 57, 58, 59, 60, 61, 62, 64, 65, 68, 69, 72, 73, 76, 78, 79, 80, 82, 83, 84, 89, 90, 91, 92, 93, 101, 102, 104, 105, 106, 107, 108, 109, 110, 112, 113, 114, 115, 116, 125, 126, 127, 128, 129, 130, 131, 137, 138, 139, 140, 151, 152, 153, 154, 155, 156, 157, 160, 161, 162, 163, 164, 167, 168, 169], 'left_BLA': [86, 97, 101, 102, 116, 130, 140, 153, 154], 'left_ECT': [85, 96, 98, 99, 100, 113, 114, 115, 131, 132, 137, 138, 139, 151, 152, 155, 156, 157], 'left_Medulla': [57, 58, 59, 60, 61, 62, 63, 66, 67, 70, 71, 74, 75, 76, 77, 78, 79, 165, 166, 170, 171, 172], 'left_Midbrain': [13, 14, 15, 16, 21, 22, 23, 24, 25, 31, 32, 33, 34, 41, 42, 43, 44, 47, 48, 49, 50, 64, 65, 68, 69, 72, 73, 80, 81, 85, 87, 88, 92, 93, 94, 95, 96, 97, 108, 109, 112, 114, 115, 116, 121, 122, 123, 124, 131, 132, 137, 138, 139, 140, 151, 152, 153, 154, 155, 156, 157, 161, 162, 163, 164, 167, 168, 169], 'left_Striatum': [0, 1, 2, 3, 4, 5, 6, 8, 9, 10, 12, 26, 27, 28, 29, 30, 35, 36, 45, 46, 55, 56, 82, 83, 84, 94, 95, 98, 99, 100, 108, 109, 112, 121, 122, 123, 124, 131, 132, 135, 144, 145, 151, 152, 155, 156, 161, 162, 163, 164, 167, 168, 169], 'left_Thalamus': [13, 14, 15, 16, 35, 36, 37, 38, 40, 45, 46, 51, 52, 53, 54, 87, 88, 89, 90, 91, 93, 103, 104, 105, 106, 107, 112, 113, 114, 115, 125, 126, 127, 128, 129, 135, 136, 137, 138, 139, 140, 153, 154, 157, 160], 'right_ALM': [0, 1, 3, 4, 5, 6, 7, 8, 9, 10, 12, 17, 18, 19, 20, 21, 22, 23, 24, 25, 26, 27, 28, 29, 30, 31, 32, 33, 34, 37, 38, 39, 40, 42, 43, 51, 52, 53, 54, 57, 58, 59, 60, 61, 63, 66, 67, 70, 71, 74, 75, 76, 77, 78, 79, 80, 81, 83, 84, 92, 93, 101, 102, 103, 104, 105, 106, 107, 108, 109, 110, 117, 118, 119, 120, 125, 127, 128, 129, 130, 133, 134, 135, 136, 141, 142, 143, 144, 145, 146, 147, 148, 150, 158, 159, 160, 165, 166, 170, 171, 172], 'right_BLA': [86, 97, 101, 102, 130, 144, 145, 150], 'right_ECT': [85, 96, 98, 99, 133, 134, 141, 142, 143, 146, 147, 148, 158, 159], 'right_Medulla': [57, 58, 59, 60, 61, 62, 63, 64, 65, 68, 69, 72, 73, 76, 77, 78, 79, 161, 162, 163, 164, 167, 168, 169], 'right_Midbrain': [17, 18, 19, 20, 21, 22, 23, 24, 25, 31, 32, 33, 34, 37, 38, 39, 40, 41, 42, 43, 44, 47, 48, 49, 50, 66, 67, 70, 71, 74, 75, 80, 81, 85, 86, 89, 90, 91, 96, 97, 98, 99, 100, 110, 111, 117, 118, 119, 120, 122, 123, 124, 133, 134, 141, 142, 143, 146, 147, 148, 158, 159, 165, 166, 170, 171, 172], 'right_Striatum': [0, 1, 2, 3, 4, 5, 6, 7, 8, 9, 10, 12, 26, 27, 28, 29, 30, 35, 36, 45, 46, 55, 56, 82, 83, 84, 94, 95, 100, 110, 111, 118, 119, 120, 121, 122, 123, 124, 133, 134, 141, 142, 143, 146, 147, 148, 149, 150, 158, 159, 165, 166, 170, 171, 172], 'right_Thalamus': [17, 18, 19, 20, 35, 36, 45, 46, 51, 52, 53, 54, 87, 88, 92, 93, 103, 104, 105, 106, 107, 117, 118, 119, 120, 125, 126, 127, 128, 129, 135, 136, 144, 145, 149, 150]}\n",
      "{0: ['left_ALM', 'left_Striatum', 'right_ALM', 'right_Striatum'], 1: ['left_ALM', 'left_Striatum', 'right_ALM', 'right_Striatum'], 3: ['left_ALM', 'left_Striatum', 'right_ALM', 'right_Striatum'], 4: ['left_ALM', 'left_Striatum', 'right_ALM', 'right_Striatum'], 5: ['left_ALM', 'left_Striatum', 'right_ALM', 'right_Striatum'], 7: ['left_ALM', 'right_ALM', 'right_Striatum'], 8: ['left_ALM', 'left_Striatum', 'right_ALM', 'right_Striatum'], 9: ['left_ALM', 'left_Striatum', 'right_ALM', 'right_Striatum'], 10: ['left_ALM', 'left_Striatum', 'right_ALM', 'right_Striatum'], 12: ['left_ALM', 'left_Striatum', 'right_ALM', 'right_Striatum'], 13: ['left_ALM', 'left_Midbrain', 'left_Thalamus'], 14: ['left_ALM', 'left_Midbrain', 'left_Thalamus'], 15: ['left_ALM', 'left_Midbrain', 'left_Thalamus'], 16: ['left_ALM', 'left_Midbrain', 'left_Thalamus'], 17: ['left_ALM', 'right_ALM', 'right_Midbrain', 'right_Thalamus'], 21: ['left_ALM', 'left_Midbrain', 'right_ALM', 'right_Midbrain'], 22: ['left_ALM', 'left_Midbrain', 'right_ALM', 'right_Midbrain'], 23: ['left_ALM', 'left_Midbrain', 'right_ALM', 'right_Midbrain'], 24: ['left_ALM', 'left_Midbrain', 'right_ALM', 'right_Midbrain'], 25: ['left_ALM', 'left_Midbrain', 'right_ALM', 'right_Midbrain'], 26: ['left_ALM', 'left_Striatum', 'right_ALM', 'right_Striatum'], 27: ['left_ALM', 'left_Striatum', 'right_ALM', 'right_Striatum'], 28: ['left_ALM', 'left_Striatum', 'right_ALM', 'right_Striatum'], 29: ['left_ALM', 'left_Striatum', 'right_ALM', 'right_Striatum'], 30: ['left_ALM', 'left_Striatum', 'right_ALM', 'right_Striatum'], 31: ['left_ALM', 'left_Midbrain', 'right_ALM', 'right_Midbrain'], 32: ['left_ALM', 'left_Midbrain', 'right_ALM', 'right_Midbrain'], 33: ['left_ALM', 'left_Midbrain', 'right_ALM', 'right_Midbrain'], 34: ['left_ALM', 'left_Midbrain', 'right_ALM', 'right_Midbrain'], 37: ['left_ALM', 'left_Thalamus', 'right_ALM', 'right_Midbrain'], 38: ['left_ALM', 'left_Thalamus', 'right_ALM', 'right_Midbrain'], 39: ['left_ALM', 'right_ALM', 'right_Midbrain'], 40: ['left_ALM', 'left_Thalamus', 'right_ALM', 'right_Midbrain'], 41: ['left_ALM', 'left_Midbrain', 'right_Midbrain'], 42: ['left_ALM', 'left_Midbrain', 'right_ALM', 'right_Midbrain'], 43: ['left_ALM', 'left_Midbrain', 'right_ALM', 'right_Midbrain'], 44: ['left_ALM', 'left_Midbrain', 'right_Midbrain'], 47: ['left_ALM', 'left_Midbrain', 'right_Midbrain'], 48: ['left_ALM', 'left_Midbrain', 'right_Midbrain'], 49: ['left_ALM', 'left_Midbrain', 'right_Midbrain'], 50: ['left_ALM', 'left_Midbrain', 'right_Midbrain'], 55: ['left_ALM', 'left_Striatum', 'right_Striatum'], 56: ['left_ALM', 'left_Striatum', 'right_Striatum'], 57: ['left_ALM', 'left_Medulla', 'right_ALM', 'right_Medulla'], 58: ['left_ALM', 'left_Medulla', 'right_ALM', 'right_Medulla'], 59: ['left_ALM', 'left_Medulla', 'right_ALM', 'right_Medulla'], 60: ['left_ALM', 'left_Medulla', 'right_ALM', 'right_Medulla'], 61: ['left_ALM', 'left_Medulla', 'right_ALM', 'right_Medulla'], 62: ['left_ALM', 'left_Medulla', 'right_Medulla'], 64: ['left_ALM', 'left_Midbrain', 'right_Medulla'], 65: ['left_ALM', 'left_Midbrain', 'right_Medulla'], 68: ['left_ALM', 'left_Midbrain', 'right_Medulla'], 69: ['left_ALM', 'left_Midbrain', 'right_Medulla'], 72: ['left_ALM', 'left_Midbrain', 'right_Medulla'], 73: ['left_ALM', 'left_Midbrain', 'right_Medulla'], 76: ['left_ALM', 'left_Medulla', 'right_ALM', 'right_Medulla'], 78: ['left_ALM', 'left_Medulla', 'right_ALM', 'right_Medulla'], 79: ['left_ALM', 'left_Medulla', 'right_ALM', 'right_Medulla'], 80: ['left_ALM', 'left_Midbrain', 'right_ALM', 'right_Midbrain'], 82: ['left_ALM', 'left_Striatum', 'right_Striatum'], 83: ['left_ALM', 'left_Striatum', 'right_ALM', 'right_Striatum'], 84: ['left_ALM', 'left_Striatum', 'right_ALM', 'right_Striatum'], 89: ['left_ALM', 'left_Thalamus', 'right_Midbrain'], 90: ['left_ALM', 'left_Thalamus', 'right_Midbrain'], 91: ['left_ALM', 'left_Thalamus', 'right_Midbrain'], 92: ['left_ALM', 'left_Midbrain', 'right_ALM', 'right_Thalamus'], 93: ['left_ALM', 'left_Midbrain', 'left_Thalamus', 'right_ALM', 'right_Thalamus'], 101: ['left_ALM', 'left_BLA', 'right_ALM', 'right_BLA'], 102: ['left_ALM', 'left_BLA', 'right_ALM', 'right_BLA'], 104: ['left_ALM', 'left_Thalamus', 'right_ALM', 'right_Thalamus'], 105: ['left_ALM', 'left_Thalamus', 'right_ALM', 'right_Thalamus'], 106: ['left_ALM', 'left_Thalamus', 'right_ALM', 'right_Thalamus'], 107: ['left_ALM', 'left_Thalamus', 'right_ALM', 'right_Thalamus'], 108: ['left_ALM', 'left_Midbrain', 'left_Striatum', 'right_ALM'], 109: ['left_ALM', 'left_Midbrain', 'left_Striatum', 'right_ALM'], 110: ['left_ALM', 'right_ALM', 'right_Midbrain', 'right_Striatum'], 112: ['left_ALM', 'left_Midbrain', 'left_Striatum', 'left_Thalamus'], 113: ['left_ALM', 'left_ECT', 'left_Thalamus'], 114: ['left_ALM', 'left_ECT', 'left_Midbrain', 'left_Thalamus'], 115: ['left_ALM', 'left_ECT', 'left_Midbrain', 'left_Thalamus'], 116: ['left_ALM', 'left_BLA', 'left_Midbrain'], 125: ['left_ALM', 'left_Thalamus', 'right_ALM', 'right_Thalamus'], 126: ['left_ALM', 'left_Thalamus', 'right_Thalamus'], 127: ['left_ALM', 'left_Thalamus', 'right_ALM', 'right_Thalamus'], 128: ['left_ALM', 'left_Thalamus', 'right_ALM', 'right_Thalamus'], 129: ['left_ALM', 'left_Thalamus', 'right_ALM', 'right_Thalamus'], 130: ['left_ALM', 'left_BLA', 'right_ALM', 'right_BLA'], 131: ['left_ALM', 'left_ECT', 'left_Midbrain', 'left_Striatum'], 137: ['left_ALM', 'left_ECT', 'left_Midbrain', 'left_Thalamus'], 138: ['left_ALM', 'left_ECT', 'left_Midbrain', 'left_Thalamus'], 139: ['left_ALM', 'left_ECT', 'left_Midbrain', 'left_Thalamus'], 140: ['left_ALM', 'left_BLA', 'left_Midbrain', 'left_Thalamus'], 151: ['left_ALM', 'left_ECT', 'left_Midbrain', 'left_Striatum'], 152: ['left_ALM', 'left_ECT', 'left_Midbrain', 'left_Striatum'], 153: ['left_ALM', 'left_BLA', 'left_Midbrain', 'left_Thalamus'], 154: ['left_ALM', 'left_BLA', 'left_Midbrain', 'left_Thalamus'], 155: ['left_ALM', 'left_ECT', 'left_Midbrain', 'left_Striatum'], 156: ['left_ALM', 'left_ECT', 'left_Midbrain', 'left_Striatum'], 157: ['left_ALM', 'left_ECT', 'left_Midbrain', 'left_Thalamus'], 160: ['left_ALM', 'left_Thalamus', 'right_ALM'], 161: ['left_ALM', 'left_Midbrain', 'left_Striatum', 'right_Medulla'], 162: ['left_ALM', 'left_Midbrain', 'left_Striatum', 'right_Medulla'], 163: ['left_ALM', 'left_Midbrain', 'left_Striatum', 'right_Medulla'], 164: ['left_ALM', 'left_Midbrain', 'left_Striatum', 'right_Medulla'], 167: ['left_ALM', 'left_Midbrain', 'left_Striatum', 'right_Medulla'], 168: ['left_ALM', 'left_Midbrain', 'left_Striatum', 'right_Medulla'], 169: ['left_ALM', 'left_Midbrain', 'left_Striatum', 'right_Medulla'], 86: ['left_BLA', 'right_BLA', 'right_Midbrain'], 97: ['left_BLA', 'left_Midbrain', 'right_BLA', 'right_Midbrain'], 85: ['left_ECT', 'left_Midbrain', 'right_ECT', 'right_Midbrain'], 96: ['left_ECT', 'left_Midbrain', 'right_ECT', 'right_Midbrain'], 98: ['left_ECT', 'left_Striatum', 'right_ECT', 'right_Midbrain'], 99: ['left_ECT', 'left_Striatum', 'right_ECT', 'right_Midbrain'], 100: ['left_ECT', 'left_Striatum', 'right_Midbrain', 'right_Striatum'], 132: ['left_ECT', 'left_Midbrain', 'left_Striatum'], 63: ['left_Medulla', 'right_ALM', 'right_Medulla'], 66: ['left_Medulla', 'right_ALM', 'right_Midbrain'], 67: ['left_Medulla', 'right_ALM', 'right_Midbrain'], 70: ['left_Medulla', 'right_ALM', 'right_Midbrain'], 71: ['left_Medulla', 'right_ALM', 'right_Midbrain'], 74: ['left_Medulla', 'right_ALM', 'right_Midbrain'], 75: ['left_Medulla', 'right_ALM', 'right_Midbrain'], 77: ['left_Medulla', 'right_ALM', 'right_Medulla'], 165: ['left_Medulla', 'right_ALM', 'right_Midbrain', 'right_Striatum'], 166: ['left_Medulla', 'right_ALM', 'right_Midbrain', 'right_Striatum'], 170: ['left_Medulla', 'right_ALM', 'right_Midbrain', 'right_Striatum'], 171: ['left_Medulla', 'right_ALM', 'right_Midbrain', 'right_Striatum'], 172: ['left_Medulla', 'right_ALM', 'right_Midbrain', 'right_Striatum'], 81: ['left_Midbrain', 'right_ALM', 'right_Midbrain'], 87: ['left_Midbrain', 'left_Thalamus', 'right_Thalamus'], 88: ['left_Midbrain', 'left_Thalamus', 'right_Thalamus'], 94: ['left_Midbrain', 'left_Striatum', 'right_Striatum'], 95: ['left_Midbrain', 'left_Striatum', 'right_Striatum'], 121: ['left_Midbrain', 'left_Striatum', 'right_Striatum'], 122: ['left_Midbrain', 'left_Striatum', 'right_Midbrain', 'right_Striatum'], 123: ['left_Midbrain', 'left_Striatum', 'right_Midbrain', 'right_Striatum'], 124: ['left_Midbrain', 'left_Striatum', 'right_Midbrain', 'right_Striatum'], 2: ['left_Striatum', 'right_Striatum'], 6: ['left_Striatum', 'right_ALM', 'right_Striatum'], 35: ['left_Striatum', 'left_Thalamus', 'right_Striatum', 'right_Thalamus'], 36: ['left_Striatum', 'left_Thalamus', 'right_Striatum', 'right_Thalamus'], 45: ['left_Striatum', 'left_Thalamus', 'right_Striatum', 'right_Thalamus'], 46: ['left_Striatum', 'left_Thalamus', 'right_Striatum', 'right_Thalamus'], 135: ['left_Striatum', 'left_Thalamus', 'right_ALM', 'right_Thalamus'], 144: ['left_Striatum', 'right_ALM', 'right_BLA', 'right_Thalamus'], 145: ['left_Striatum', 'right_ALM', 'right_BLA', 'right_Thalamus'], 51: ['left_Thalamus', 'right_ALM', 'right_Thalamus'], 52: ['left_Thalamus', 'right_ALM', 'right_Thalamus'], 53: ['left_Thalamus', 'right_ALM', 'right_Thalamus'], 54: ['left_Thalamus', 'right_ALM', 'right_Thalamus'], 103: ['left_Thalamus', 'right_ALM', 'right_Thalamus'], 136: ['left_Thalamus', 'right_ALM', 'right_Thalamus'], 18: ['right_ALM', 'right_Midbrain', 'right_Thalamus'], 19: ['right_ALM', 'right_Midbrain', 'right_Thalamus'], 20: ['right_ALM', 'right_Midbrain', 'right_Thalamus'], 117: ['right_ALM', 'right_Midbrain', 'right_Thalamus'], 118: ['right_ALM', 'right_Midbrain', 'right_Striatum', 'right_Thalamus'], 119: ['right_ALM', 'right_Midbrain', 'right_Striatum', 'right_Thalamus'], 120: ['right_ALM', 'right_Midbrain', 'right_Striatum', 'right_Thalamus'], 133: ['right_ALM', 'right_ECT', 'right_Midbrain', 'right_Striatum'], 134: ['right_ALM', 'right_ECT', 'right_Midbrain', 'right_Striatum'], 141: ['right_ALM', 'right_ECT', 'right_Midbrain', 'right_Striatum'], 142: ['right_ALM', 'right_ECT', 'right_Midbrain', 'right_Striatum'], 143: ['right_ALM', 'right_ECT', 'right_Midbrain', 'right_Striatum'], 146: ['right_ALM', 'right_ECT', 'right_Midbrain', 'right_Striatum'], 147: ['right_ALM', 'right_ECT', 'right_Midbrain', 'right_Striatum'], 148: ['right_ALM', 'right_ECT', 'right_Midbrain', 'right_Striatum'], 150: ['right_ALM', 'right_BLA', 'right_Striatum', 'right_Thalamus'], 158: ['right_ALM', 'right_ECT', 'right_Midbrain', 'right_Striatum'], 159: ['right_ALM', 'right_ECT', 'right_Midbrain', 'right_Striatum'], 111: ['right_Midbrain', 'right_Striatum'], 149: ['right_Striatum', 'right_Thalamus']}\n"
     ]
    }
   ],
   "source": [
    "mapping_brain_to_days = {}\n",
    "mapping_days_to_brain = {}\n",
    "\n",
    "for brain_region in brain_region_list:\n",
    "    dir_path = f\"../data/raw_data/neural_data_{brain_region}\"\n",
    "    entries = os.listdir(dir_path)\n",
    "    extracted_contents = []\n",
    "    for file_name in entries:\n",
    "        # Verify file naming convention; adjust the indices as necessary.\n",
    "        assert file_name.startswith('neural_data_')\n",
    "        assert file_name.endswith(f'_{brain_region}.mat')\n",
    "        # Remove 'neural_data_' from the start and f'_{brain_region}.mat' from the end.\n",
    "        num = int(file_name[len('neural_data_') : - (len(brain_region) + 5)])\n",
    "        extracted_contents.append(num)\n",
    "    extracted_contents.sort()\n",
    "        \n",
    "    mapping_brain_to_days[brain_region] = extracted_contents\n",
    "    for day in extracted_contents:\n",
    "        if day not in mapping_days_to_brain.keys():\n",
    "            mapping_days_to_brain[day] = [brain_region]\n",
    "        else:\n",
    "            mapping_days_to_brain[day].append(brain_region)\n",
    "\n",
    "print(mapping_brain_to_days)\n",
    "print(mapping_days_to_brain)"
   ]
  },
  {
   "cell_type": "code",
   "execution_count": null,
   "id": "239a0a8a",
   "metadata": {},
   "outputs": [],
   "source": []
  }
 ],
 "metadata": {
  "kernelspec": {
   "display_name": "Python 3",
   "language": "python",
   "name": "python3"
  },
  "language_info": {
   "codemirror_mode": {
    "name": "ipython",
    "version": 3
   },
   "file_extension": ".py",
   "mimetype": "text/x-python",
   "name": "python",
   "nbconvert_exporter": "python",
   "pygments_lexer": "ipython3",
   "version": "3.7.9"
  }
 },
 "nbformat": 4,
 "nbformat_minor": 5
}
